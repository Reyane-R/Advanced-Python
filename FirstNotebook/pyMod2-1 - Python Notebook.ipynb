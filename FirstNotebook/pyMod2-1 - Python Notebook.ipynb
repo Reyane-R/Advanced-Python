{
 "cells": [
  {
   "cell_type": "markdown",
   "metadata": {},
   "source": [
    "# Python - Module 2 - Notebook\n",
    "\n",
    "Working with python in a notebook, which is a common way to work with python and data (data science). \n",
    "This notebook can be run either with jupyter lab or with vscode. \n",
    "\n",
    "\n",
    "- author : François LORTHIOIR\n",
    "- creation : 24/07/2020\n",
    "- update : 08/10/2022\n",
    "    - separate working with a notebook and markdown\n"
   ]
  },
  {
   "cell_type": "markdown",
   "metadata": {},
   "source": [
    "# Organize and Document"
   ]
  },
  {
   "cell_type": "markdown",
   "metadata": {},
   "source": [
    "**Organize your data**, your code and other files in a project folder (see presentation)\n",
    "\n",
    "**Document your code** so that : \n",
    "- others understand what you are trying to achieve with a piece of code (ex : a jupyter notebook), a dataset ...\n",
    "- your notebooks are structured by levels and you can view the structure in the outline area\n"
   ]
  },
  {
   "cell_type": "markdown",
   "metadata": {},
   "source": [
    "# Code Cell"
   ]
  },
  {
   "cell_type": "code",
   "execution_count": 1,
   "metadata": {},
   "outputs": [
    {
     "name": "stdout",
     "output_type": "stream",
     "text": [
      "5\n"
     ]
    }
   ],
   "source": [
    "# this is a python code cell\n",
    "\n",
    "a = 5\n",
    "print(a)"
   ]
  },
  {
   "cell_type": "markdown",
   "metadata": {},
   "source": [
    "# Markdown Cell"
   ]
  },
  {
   "cell_type": "markdown",
   "metadata": {},
   "source": [
    "---\n",
    "\n",
    "Voir dans le  menu Jupyter Lab : **Help > Markdown Reference**\n",
    "\n",
    "Ou : https://jupyter-notebook.readthedocs.io/en/stable/examples/Notebook/Working%20With%20Markdown%20Cells.html\n",
    "\n",
    "---"
   ]
  },
  {
   "cell_type": "markdown",
   "metadata": {},
   "source": [
    "> <br>Markdown permet de formater simplement du texte afin de documenter un notebook Jupyter.<br>Ceci permet de faire ressortir une partie de texte.\n",
    "<br>\n",
    "\n",
    "Pour cela : utiliser une **cellule de type Markdown**\n",
    "\n",
    "> Ici on gère un **Blockquote**"
   ]
  },
  {
   "cell_type": "markdown",
   "metadata": {},
   "source": [
    "<br>\n",
    "<br>"
   ]
  },
  {
   "cell_type": "markdown",
   "metadata": {},
   "source": [
    "**Niveaux de Titres**\n",
    "\n",
    "# Texte de niveau 1\n",
    "## Texte de niveau 2\n",
    "### Texte de niveau 3\n",
    "#### Texte de niveau 4\n"
   ]
  },
  {
   "cell_type": "markdown",
   "metadata": {},
   "source": [
    "<br>\n",
    "<br>"
   ]
  },
  {
   "cell_type": "markdown",
   "metadata": {},
   "source": [
    "**Formatage de texte**\n",
    "\n",
    "*texte en italique*\n",
    "\n",
    "**texte en gras**\n"
   ]
  },
  {
   "cell_type": "markdown",
   "metadata": {},
   "source": [
    "<br>\n",
    "<br>"
   ]
  },
  {
   "cell_type": "markdown",
   "metadata": {},
   "source": [
    "\n",
    "\n",
    "```Python\n",
    "# Exemple d'un bloc de code en python\n",
    "str = \"François\"\n",
    "print(str)\n",
    "```\n"
   ]
  },
  {
   "cell_type": "markdown",
   "metadata": {},
   "source": [
    "<br>\n",
    "<br>"
   ]
  },
  {
   "cell_type": "markdown",
   "metadata": {},
   "source": [
    "**signes mathématiques**\n",
    "\n",
    "&sum; k <br>\n",
    "&radic; k"
   ]
  },
  {
   "cell_type": "markdown",
   "metadata": {},
   "source": [
    "<br>\n",
    "<br>"
   ]
  },
  {
   "cell_type": "markdown",
   "metadata": {},
   "source": [
    "**Tableau de données**\n",
    "\n",
    "| Syntax | Description |\n",
    "| ----------- | ----------- |\n",
    "| Header | Title |\n",
    "| Paragraph | Text |"
   ]
  },
  {
   "cell_type": "markdown",
   "metadata": {},
   "source": [
    "<br>\n",
    "<br>"
   ]
  },
  {
   "cell_type": "markdown",
   "metadata": {},
   "source": [
    "**Liste**\n",
    "\n",
    "- premier point\n",
    "- deuxième point\n",
    "- troisième point"
   ]
  },
  {
   "cell_type": "markdown",
   "metadata": {},
   "source": [
    "<br>\n",
    "<br>"
   ]
  },
  {
   "cell_type": "markdown",
   "metadata": {},
   "source": [
    "**Check List**\n",
    "\n",
    "- [x] Write the press release\n",
    "- [ ] Update the website\n",
    "- [ ] Contact the media"
   ]
  },
  {
   "cell_type": "markdown",
   "metadata": {},
   "source": [
    "<br>\n",
    "<br>"
   ]
  },
  {
   "cell_type": "markdown",
   "metadata": {},
   "source": [
    "```Markdown\n",
    "Afficher une image \n",
    "<img src=\"../images/python_logo.svg\" />\n",
    "```"
   ]
  },
  {
   "cell_type": "markdown",
   "metadata": {},
   "source": [
    "\n",
    "<img src=\"./images/python_logo.svg\" />"
   ]
  },
  {
   "cell_type": "markdown",
   "metadata": {},
   "source": [
    "<br>\n",
    "<br>"
   ]
  },
  {
   "cell_type": "markdown",
   "metadata": {},
   "source": [
    "Link in a text : [Access Google search engine](https://www.google.com)."
   ]
  }
 ],
 "metadata": {
  "kernelspec": {
   "display_name": "Python 3.10.6 ('datasc01')",
   "language": "python",
   "name": "python3"
  },
  "language_info": {
   "codemirror_mode": {
    "name": "ipython",
    "version": 3
   },
   "file_extension": ".py",
   "mimetype": "text/x-python",
   "name": "python",
   "nbconvert_exporter": "python",
   "pygments_lexer": "ipython3",
   "version": "3.10.6"
  },
  "vscode": {
   "interpreter": {
    "hash": "fdad79f04f61b2b9a135f9e11fd752b7b0a89f72f21531f6c659b4c888a75e17"
   }
  }
 },
 "nbformat": 4,
 "nbformat_minor": 4
}
