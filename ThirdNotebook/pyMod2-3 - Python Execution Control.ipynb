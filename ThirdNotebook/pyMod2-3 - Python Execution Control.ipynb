{
 "cells": [
  {
   "cell_type": "markdown",
   "metadata": {},
   "source": [
    "# Python - Module 2 - Execution Control\n",
    "\n",
    "Test and branch, loops, functions \n",
    "\n",
    "\n",
    "- author : François LORTHIOIR\n",
    "- creation: 24/07/2020\n",
    "- update : 09/10/2022\n"
   ]
  },
  {
   "cell_type": "markdown",
   "metadata": {},
   "source": [
    "<br><br>"
   ]
  },
  {
   "cell_type": "markdown",
   "metadata": {},
   "source": [
    "## References\n",
    "\n",
    "Python Tutorial : https://www.w3schools.com/python/default.asp\n",
    "    bien fait pour les synthèses et les références sur un grand nombre de sujets \n",
    "    \n",
    "    "
   ]
  },
  {
   "cell_type": "markdown",
   "metadata": {},
   "source": [
    "### Test"
   ]
  },
  {
   "cell_type": "code",
   "execution_count": 1,
   "metadata": {},
   "outputs": [
    {
     "name": "stdout",
     "output_type": "stream",
     "text": [
      "True\n",
      "True\n",
      "False\n",
      "True\n",
      "False\n",
      "True\n",
      "True\n"
     ]
    }
   ],
   "source": [
    "print(2 == 2)     # Test d'égalité\n",
    "print(2 != 3)     # différence\n",
    "print(2 >= 3)     # supérieur à\n",
    "print(2 < 3)      # inférieur strictement\n",
    "print(not (2 <= 6))\n",
    "print((2 != 3) and (2 <= 6))\n",
    "print((2 != 3) or (2 > 6))"
   ]
  },
  {
   "cell_type": "markdown",
   "metadata": {},
   "source": [
    "### if elif else"
   ]
  },
  {
   "cell_type": "code",
   "execution_count": 2,
   "metadata": {},
   "outputs": [
    {
     "name": "stdout",
     "output_type": "stream",
     "text": [
      "batracien\n"
     ]
    }
   ],
   "source": [
    "animal = \"grenouille\"\n",
    "\n",
    "if animal == \"vache\": print(\"mammifere\")\n",
    "if animal == \"grenouille\": print(\"batracien\")"
   ]
  },
  {
   "cell_type": "code",
   "execution_count": 4,
   "metadata": {},
   "outputs": [
    {
     "name": "stdout",
     "output_type": "stream",
     "text": [
      "batracien\n"
     ]
    }
   ],
   "source": [
    "if animal == 'vache':\n",
    "    print('mammifere')\n",
    "elif animal == 'grenouille':\n",
    "    print(\"batracien\")"
   ]
  },
  {
   "cell_type": "code",
   "execution_count": 5,
   "metadata": {},
   "outputs": [
    {
     "name": "stdout",
     "output_type": "stream",
     "text": [
      "A\n"
     ]
    }
   ],
   "source": [
    "note= 9\n",
    "\n",
    "if note >= 8.5: \n",
    "    print(\"A\")\n",
    "elif note >= 7: \n",
    "    print(\"B\")\n",
    "elif note >= 5: \n",
    "    print(\"C\")\n",
    "else : \n",
    "    print(\"D\")\n",
    "\n",
    "# => A"
   ]
  },
  {
   "cell_type": "code",
   "execution_count": 6,
   "metadata": {},
   "outputs": [
    {
     "name": "stdout",
     "output_type": "stream",
     "text": [
      "D\n"
     ]
    }
   ],
   "source": [
    "note= 4\n",
    "\n",
    "if note >= 8.5: \n",
    "    print(\"A\")\n",
    "elif note >= 7: \n",
    "    print(\"B\")\n",
    "elif note >= 5: \n",
    "    print(\"C\")\n",
    "else : \n",
    "    print(\"D\")\n",
    "\n",
    "# => D"
   ]
  },
  {
   "cell_type": "markdown",
   "metadata": {},
   "source": [
    "### Loops <a name=\"loops\"></a>"
   ]
  },
  {
   "cell_type": "markdown",
   "metadata": {},
   "source": [
    "#### for"
   ]
  },
  {
   "cell_type": "code",
   "execution_count": 5,
   "metadata": {},
   "outputs": [
    {
     "name": "stdout",
     "output_type": "stream",
     "text": [
      "0 1 2 3 4 5 6 7 8 9 "
     ]
    }
   ],
   "source": [
    "for i in range(10):\n",
    "    print(i, end = ' ')"
   ]
  },
  {
   "cell_type": "code",
   "execution_count": 6,
   "metadata": {},
   "outputs": [
    {
     "data": {
      "text/plain": [
       "[0, 1, 2, 3, 4, 5, 6, 7, 8, 9]"
      ]
     },
     "execution_count": 6,
     "metadata": {},
     "output_type": "execute_result"
    }
   ],
   "source": [
    "list(range(10))"
   ]
  },
  {
   "cell_type": "markdown",
   "metadata": {},
   "source": [
    "Il est possible de parcourir les éléments d'une liste ou d'un dictionnaire."
   ]
  },
  {
   "cell_type": "code",
   "execution_count": 7,
   "metadata": {},
   "outputs": [],
   "source": [
    "ma_liste = ['entrecote', 'faux-filet', 'travers']"
   ]
  },
  {
   "cell_type": "code",
   "execution_count": 8,
   "metadata": {},
   "outputs": [
    {
     "name": "stdout",
     "output_type": "stream",
     "text": [
      "entrecote\n",
      "faux-filet\n",
      "travers\n"
     ]
    }
   ],
   "source": [
    "for achat in ma_liste:\n",
    "    print(achat)"
   ]
  },
  {
   "cell_type": "code",
   "execution_count": 9,
   "metadata": {},
   "outputs": [
    {
     "name": "stdout",
     "output_type": "stream",
     "text": [
      "la clé est : nom, la valeur est : Smith\n",
      "la clé est : prenom, la valeur est : John\n"
     ]
    }
   ],
   "source": [
    "personne = { \"nom\": \"Smith\", \"prenom\":\"John\"}\n",
    "\n",
    "for cle,valeur in personne.items():\n",
    "    print(\"la clé est : {}, la valeur est : {}\".format(cle, valeur))"
   ]
  },
  {
   "cell_type": "markdown",
   "metadata": {},
   "source": [
    "La fonction enumerate permet de créer un indice qui est automatiquement itéré au fur et à mesure que la liste est parcourue."
   ]
  },
  {
   "cell_type": "code",
   "execution_count": 10,
   "metadata": {},
   "outputs": [
    {
     "name": "stdout",
     "output_type": "stream",
     "text": [
      "['entrecote', 'faux-filet', 'travers']\n",
      "0 entrecote entrecote\n",
      "1 faux-filet faux-filet\n",
      "2 travers travers\n"
     ]
    }
   ],
   "source": [
    "print(ma_liste)\n",
    "for i,achat in enumerate(ma_liste):\n",
    "    print(i, achat, ma_liste[i])\n"
   ]
  },
  {
   "cell_type": "markdown",
   "metadata": {},
   "source": [
    "#### while"
   ]
  },
  {
   "cell_type": "markdown",
   "metadata": {},
   "source": [
    "L'opérateur **while** teste une condition et continue tant que celle-ci est vérifiée."
   ]
  },
  {
   "cell_type": "code",
   "execution_count": 11,
   "metadata": {},
   "outputs": [
    {
     "name": "stdout",
     "output_type": "stream",
     "text": [
      "100\n",
      "50.0\n",
      "25.0\n",
      "12.5\n"
     ]
    }
   ],
   "source": [
    "num = 100\n",
    "while num > 10: \n",
    "    print(num)\n",
    "    num /= 2"
   ]
  },
  {
   "cell_type": "markdown",
   "metadata": {},
   "source": [
    "#### List Comprehension <a name=\"list_comp\"></a>"
   ]
  },
  {
   "cell_type": "markdown",
   "metadata": {},
   "source": [
    "Les **list comprehension** sont une particularité de Python.  \n",
    "C'est une fonctionnalité permettant de créer à la volée une liste.  "
   ]
  },
  {
   "cell_type": "code",
   "execution_count": 12,
   "metadata": {},
   "outputs": [
    {
     "name": "stdout",
     "output_type": "stream",
     "text": [
      "[1, 2, 3, 3, 3, 4, 5, 6]\n"
     ]
    }
   ],
   "source": [
    "liste_test = [1,2,3,3,3,4,5,6]\n",
    "print(liste_test)\n"
   ]
  },
  {
   "cell_type": "code",
   "execution_count": 13,
   "metadata": {},
   "outputs": [
    {
     "data": {
      "text/plain": [
       "[1, 4, 9, 9, 9, 16, 25, 36]"
      ]
     },
     "execution_count": 13,
     "metadata": {},
     "output_type": "execute_result"
    }
   ],
   "source": [
    "[x * x for x in liste_test]"
   ]
  },
  {
   "cell_type": "code",
   "execution_count": 14,
   "metadata": {},
   "outputs": [
    {
     "data": {
      "text/plain": [
       "[0, 1, 2, 3, 4, 5, 6, 7, 8, 9]"
      ]
     },
     "execution_count": 14,
     "metadata": {},
     "output_type": "execute_result"
    }
   ],
   "source": [
    "[x for x in range(10)]"
   ]
  },
  {
   "cell_type": "code",
   "execution_count": 15,
   "metadata": {},
   "outputs": [],
   "source": [
    "liste2 = [x**2 for x in liste_test]"
   ]
  },
  {
   "cell_type": "code",
   "execution_count": 16,
   "metadata": {},
   "outputs": [
    {
     "name": "stdout",
     "output_type": "stream",
     "text": [
      "[1, 2, 3, 3, 3, 4, 5, 6]\n",
      "[1, 4, 9, 9, 9, 16, 25, 36]\n"
     ]
    }
   ],
   "source": [
    "print(liste_test)\n",
    "print(liste2)"
   ]
  },
  {
   "cell_type": "code",
   "execution_count": 17,
   "metadata": {},
   "outputs": [
    {
     "name": "stdout",
     "output_type": "stream",
     "text": [
      "[1, 2, 3, 3, 3, 4, 5, 6]\n",
      "[1, 2, 4, 5, 6]\n"
     ]
    }
   ],
   "source": [
    "liste3 = [x for x in liste_test if x!=3]\n",
    "print(liste_test)\n",
    "print(liste3)\n"
   ]
  },
  {
   "cell_type": "code",
   "execution_count": 18,
   "metadata": {
    "scrolled": true
   },
   "outputs": [
    {
     "name": "stdout",
     "output_type": "stream",
     "text": [
      "[0, 2, 4, 6, 8, 10, 12, 14]\n"
     ]
    }
   ],
   "source": [
    "even_list = [x for x in range(16) if x % 2 == 0]\n",
    "\n",
    "print(even_list)"
   ]
  },
  {
   "cell_type": "code",
   "execution_count": 19,
   "metadata": {},
   "outputs": [
    {
     "data": {
      "text/plain": [
       "[10, 9, 8, 7, 6, 5, 4, 3, 2, 1]"
      ]
     },
     "execution_count": 19,
     "metadata": {},
     "output_type": "execute_result"
    }
   ],
   "source": [
    "list(range(10,0,-1))"
   ]
  },
  {
   "cell_type": "markdown",
   "metadata": {},
   "source": [
    "La plupart des fonctions natives de Python ne s'appliquent pas sur des listes.  \n",
    "Les **list comprehension** permettent d'appliquer ces fonctions à tous les éléments d'une liste un à un."
   ]
  },
  {
   "cell_type": "code",
   "execution_count": 20,
   "metadata": {},
   "outputs": [
    {
     "ename": "TypeError",
     "evalue": "'<' not supported between instances of 'list' and 'int'",
     "output_type": "error",
     "traceback": [
      "\u001b[0;31m---------------------------------------------------------------------------\u001b[0m",
      "\u001b[0;31mTypeError\u001b[0m                                 Traceback (most recent call last)",
      "\u001b[0;32m/var/folders/vn/syhcjl892gx3d4wjq3nmbh4r0000gn/T/ipykernel_56130/3601765912.py\u001b[0m in \u001b[0;36m<module>\u001b[0;34m\u001b[0m\n\u001b[1;32m      1\u001b[0m \u001b[0mliste_valeurs\u001b[0m \u001b[0;34m=\u001b[0m \u001b[0mlist\u001b[0m\u001b[0;34m(\u001b[0m\u001b[0mrange\u001b[0m\u001b[0;34m(\u001b[0m\u001b[0;36m5\u001b[0m\u001b[0;34m)\u001b[0m\u001b[0;34m)\u001b[0m\u001b[0;34m\u001b[0m\u001b[0;34m\u001b[0m\u001b[0m\n\u001b[0;32m----> 2\u001b[0;31m \u001b[0mliste_valeurs\u001b[0m \u001b[0;34m<\u001b[0m \u001b[0;36m3\u001b[0m\u001b[0;34m\u001b[0m\u001b[0;34m\u001b[0m\u001b[0m\n\u001b[0m",
      "\u001b[0;31mTypeError\u001b[0m: '<' not supported between instances of 'list' and 'int'"
     ]
    }
   ],
   "source": [
    "liste_valeurs = list(range(5))\n",
    "liste_valeurs < 3 "
   ]
  },
  {
   "cell_type": "code",
   "execution_count": 21,
   "metadata": {},
   "outputs": [
    {
     "data": {
      "text/plain": [
       "[True, True, True, False, False]"
      ]
     },
     "execution_count": 21,
     "metadata": {},
     "output_type": "execute_result"
    }
   ],
   "source": [
    "[x < 3 for x in liste_valeurs]"
   ]
  },
  {
   "cell_type": "code",
   "execution_count": 22,
   "metadata": {},
   "outputs": [
    {
     "name": "stdout",
     "output_type": "stream",
     "text": [
      "[0, 1, 2, 3, 4, 5, 6, 7, 8, 9] \n",
      " [0, 1, 4, 9, 16, 25, 36, 49, 64, 81] \n",
      " [(0, 0), (1, 1), (2, 4), (3, 9), (4, 16), (5, 25), (6, 36), (7, 49), (8, 64), (9, 81)] \n",
      " [0, 2, 6, 12, 20, 30, 42, 56, 72, 90]\n"
     ]
    }
   ],
   "source": [
    "# Somme de 2 listes, élements par éléments\n",
    "liste1 = list(range(10))\n",
    "liste2 = [x**2 for x in liste1]\n",
    "list_sum = [x + y for x, y in zip(liste1, liste2)]\n",
    "\n",
    "print(liste1, '\\n', liste2, '\\n', list(zip(liste1, liste2)), '\\n', list_sum)\n"
   ]
  },
  {
   "cell_type": "code",
   "execution_count": null,
   "metadata": {},
   "outputs": [],
   "source": [
    "\n"
   ]
  },
  {
   "cell_type": "markdown",
   "metadata": {},
   "source": [
    "### continue, break <a name=\"continue\"></a>"
   ]
  },
  {
   "cell_type": "markdown",
   "metadata": {},
   "source": [
    "continue permet de sauter la suite de l'étape en cours pour passer à la suivante."
   ]
  },
  {
   "cell_type": "code",
   "execution_count": 23,
   "metadata": {
    "scrolled": true
   },
   "outputs": [
    {
     "name": "stdout",
     "output_type": "stream",
     "text": [
      "s\n",
      "t\n",
      "r\n",
      "n\n",
      "g\n",
      "The end\n"
     ]
    }
   ],
   "source": [
    "for val in \"string\":\n",
    "    if val == \"i\":\n",
    "        continue\n",
    "    print(val)\n",
    "\n",
    "print(\"The end\")\n"
   ]
  },
  {
   "cell_type": "markdown",
   "metadata": {},
   "source": [
    "break sort de la boucle instantanément."
   ]
  },
  {
   "cell_type": "code",
   "execution_count": 24,
   "metadata": {},
   "outputs": [
    {
     "name": "stdout",
     "output_type": "stream",
     "text": [
      "s\n",
      "t\n",
      "r\n",
      "The end\n"
     ]
    }
   ],
   "source": [
    "# Use of break statement inside loop\n",
    "\n",
    "for val in \"string\":\n",
    "    if val == \"i\":\n",
    "        break\n",
    "    print(val)\n",
    "\n",
    "print(\"The end\")"
   ]
  },
  {
   "cell_type": "markdown",
   "metadata": {},
   "source": [
    "## Functions <a name=\"functions\"></a>"
   ]
  },
  {
   "cell_type": "markdown",
   "metadata": {},
   "source": [
    "Le but est de rassembler une suite d'opération dans une fonction pour pouvoir la répéter plusieurs fois."
   ]
  },
  {
   "cell_type": "markdown",
   "metadata": {},
   "source": [
    "### Création  <a name=\"def\"></a>"
   ]
  },
  {
   "cell_type": "code",
   "execution_count": 7,
   "metadata": {},
   "outputs": [],
   "source": [
    "# Création, définition de la fonction\n",
    "def hello_function():\n",
    "    \"\"\"Function documentation de ma belle  fonction \"\"\"\n",
    "    print('Hello Word')\n"
   ]
  },
  {
   "cell_type": "code",
   "execution_count": 8,
   "metadata": {},
   "outputs": [
    {
     "name": "stdout",
     "output_type": "stream",
     "text": [
      "Hello Word\n"
     ]
    }
   ],
   "source": [
    "# Appel de la fonction hello_function\n",
    "\n",
    "hello_function()"
   ]
  },
  {
   "cell_type": "code",
   "execution_count": 9,
   "metadata": {},
   "outputs": [
    {
     "name": "stdout",
     "output_type": "stream",
     "text": [
      "Help on function hello_function in module __main__:\n",
      "\n",
      "hello_function()\n",
      "    Function documentation de ma belle  fonction\n",
      "\n"
     ]
    }
   ],
   "source": [
    "# Aide sur la fonction / ou placer le curseur de l'éditeur vscode sur la fonction \n",
    "help(hello_function)"
   ]
  },
  {
   "cell_type": "code",
   "execution_count": 28,
   "metadata": {},
   "outputs": [],
   "source": [
    "## Avec des arguments\n",
    "def calcul(x,y):\n",
    "    return [x + y, x * y, x ** y]\n"
   ]
  },
  {
   "cell_type": "code",
   "execution_count": 29,
   "metadata": {},
   "outputs": [
    {
     "data": {
      "text/plain": [
       "[8, 15, 243]"
      ]
     },
     "execution_count": 29,
     "metadata": {},
     "output_type": "execute_result"
    }
   ],
   "source": [
    "# Appel de la fonction et passage des arguments par postion\n",
    "calcul(3, 5)"
   ]
  },
  {
   "cell_type": "code",
   "execution_count": 30,
   "metadata": {},
   "outputs": [
    {
     "name": "stdout",
     "output_type": "stream",
     "text": [
      "[8, 15, 125]\n"
     ]
    }
   ],
   "source": [
    "# Appel de la fonction et passage des argements par référence\n",
    "a = calcul(y = 3, x = 5)\n",
    "print(a)"
   ]
  },
  {
   "cell_type": "code",
   "execution_count": 31,
   "metadata": {},
   "outputs": [],
   "source": [
    "# Définition d'une fonction avec valeur de paramètres par défaut \n",
    "def write(text, message = \"No message provided\"):\n",
    "    print(text, message)"
   ]
  },
  {
   "cell_type": "code",
   "execution_count": 32,
   "metadata": {},
   "outputs": [
    {
     "name": "stdout",
     "output_type": "stream",
     "text": [
      "salut No message provided\n",
      "Salut ca marche !\n"
     ]
    }
   ],
   "source": [
    "write(\"salut\")\n",
    "write(\"Salut\", \"ca marche !\")"
   ]
  },
  {
   "cell_type": "code",
   "execution_count": 10,
   "metadata": {},
   "outputs": [
    {
     "ename": "SyntaxError",
     "evalue": "non-default argument follows default argument (765358801.py, line 1)",
     "output_type": "error",
     "traceback": [
      "\u001b[0;36m  Cell \u001b[0;32mIn [10], line 1\u001b[0;36m\u001b[0m\n\u001b[0;31m    def write( message = \"No message provided\", text):\u001b[0m\n\u001b[0m                                                ^\u001b[0m\n\u001b[0;31mSyntaxError\u001b[0m\u001b[0;31m:\u001b[0m non-default argument follows default argument\n"
     ]
    }
   ],
   "source": [
    "def write( message = \"No message provided\", text):\n",
    "    print(text, message)"
   ]
  },
  {
   "cell_type": "markdown",
   "metadata": {},
   "source": [
    "**Attention: Les arguments avec des valeurs par défaut doivent toujours se situer à droite de la liste d'arguments.**"
   ]
  },
  {
   "cell_type": "markdown",
   "metadata": {},
   "source": [
    "### Fonction récursive: Fonction qui s'appelle elle-même.\n",
    "\n",
    "Important, il faut une condition d'arrêt pour ne pas entrer dans une boucle infinie\n"
   ]
  },
  {
   "cell_type": "code",
   "execution_count": 34,
   "metadata": {},
   "outputs": [],
   "source": [
    "def factorielle(n):\n",
    "    if n == 1:\n",
    "        return 1\n",
    "    else:\n",
    "        return n * factorielle(n-1)"
   ]
  },
  {
   "cell_type": "code",
   "execution_count": 35,
   "metadata": {},
   "outputs": [
    {
     "name": "stdout",
     "output_type": "stream",
     "text": [
      "CPU times: user 4 µs, sys: 1e+03 ns, total: 5 µs\n",
      "Wall time: 6.91 µs\n"
     ]
    },
    {
     "data": {
      "text/plain": [
       "120"
      ]
     },
     "execution_count": 35,
     "metadata": {},
     "output_type": "execute_result"
    }
   ],
   "source": [
    "# %time calcule le temps d'exécution d'une ligne \n",
    "%time factorielle(5)"
   ]
  },
  {
   "cell_type": "markdown",
   "metadata": {},
   "source": [
    "### Unpack arguments <a name=\"unpack\"></a>"
   ]
  },
  {
   "cell_type": "markdown",
   "metadata": {},
   "source": [
    "Il est possible de spécifier une liste d'arguments infinie pour une fonction.  \n",
    "Pour ce faire, on utilise l'opérateur args, qui va en fait empaqueter les arguments de la fonction dans une liste."
   ]
  },
  {
   "cell_type": "code",
   "execution_count": 36,
   "metadata": {},
   "outputs": [
    {
     "name": "stdout",
     "output_type": "stream",
     "text": [
      "('allo Charlie',)\n",
      "allo Charlie\n"
     ]
    }
   ],
   "source": [
    "def args_inf(*args):\n",
    "    print(args)\n",
    "    [print(x) for x in args]\n",
    "\n",
    "args_inf(\"allo Charlie\")\n"
   ]
  },
  {
   "cell_type": "code",
   "execution_count": 37,
   "metadata": {},
   "outputs": [
    {
     "name": "stdout",
     "output_type": "stream",
     "text": [
      "('allo Charlie', 'ici Bravo', 'et toi')\n",
      "allo Charlie\n",
      "ici Bravo\n",
      "et toi\n"
     ]
    }
   ],
   "source": [
    "args_inf(\"allo Charlie\",\"ici Bravo\", \"et toi\")"
   ]
  },
  {
   "cell_type": "markdown",
   "metadata": {},
   "source": [
    "### lambda functions"
   ]
  },
  {
   "cell_type": "markdown",
   "metadata": {},
   "source": [
    "Fonctions anonymes qui peuvent être utilisée directement. Syntaxe particulière. Pas de mot return"
   ]
  },
  {
   "cell_type": "code",
   "execution_count": 38,
   "metadata": {},
   "outputs": [
    {
     "data": {
      "text/plain": [
       "9"
      ]
     },
     "execution_count": 38,
     "metadata": {},
     "output_type": "execute_result"
    }
   ],
   "source": [
    "g = lambda x: x**2\n",
    "\n",
    "g(3)"
   ]
  },
  {
   "cell_type": "markdown",
   "metadata": {},
   "source": [
    "Utile pour les fonctions map, filter et reduce"
   ]
  },
  {
   "cell_type": "markdown",
   "metadata": {
    "tags": []
   },
   "source": [
    "### Gestion des erreurs : try and except "
   ]
  },
  {
   "cell_type": "markdown",
   "metadata": {},
   "source": [
    "Attention! Ne permet pas de gérer les erreurs de syntaxe."
   ]
  },
  {
   "cell_type": "code",
   "execution_count": 39,
   "metadata": {},
   "outputs": [
    {
     "ename": "ValueError",
     "evalue": "could not convert string to float: 'test'",
     "output_type": "error",
     "traceback": [
      "\u001b[0;31m---------------------------------------------------------------------------\u001b[0m",
      "\u001b[0;31mValueError\u001b[0m                                Traceback (most recent call last)",
      "\u001b[0;32m/var/folders/vn/syhcjl892gx3d4wjq3nmbh4r0000gn/T/ipykernel_56130/3848471273.py\u001b[0m in \u001b[0;36m<module>\u001b[0;34m\u001b[0m\n\u001b[1;32m      1\u001b[0m \u001b[0;31m# Essai de changer un character en float\u001b[0m\u001b[0;34m\u001b[0m\u001b[0;34m\u001b[0m\u001b[0;34m\u001b[0m\u001b[0m\n\u001b[1;32m      2\u001b[0m \u001b[0;34m\u001b[0m\u001b[0m\n\u001b[0;32m----> 3\u001b[0;31m \u001b[0mfloat\u001b[0m\u001b[0;34m(\u001b[0m\u001b[0;34m'test'\u001b[0m\u001b[0;34m)\u001b[0m\u001b[0;34m\u001b[0m\u001b[0;34m\u001b[0m\u001b[0m\n\u001b[0m",
      "\u001b[0;31mValueError\u001b[0m: could not convert string to float: 'test'"
     ]
    }
   ],
   "source": [
    "# Essai de changer un character en float\n",
    "\n",
    "float('test')"
   ]
  },
  {
   "cell_type": "code",
   "execution_count": 40,
   "metadata": {
    "tags": []
   },
   "outputs": [
    {
     "name": "stdout",
     "output_type": "stream",
     "text": [
      "x =  23.0  - c'est bien un float\n",
      "x =  23.3  - c'est bien un float\n",
      "x =  hello world  - Ceci n'est pas un float\n"
     ]
    }
   ],
   "source": [
    "def test_float(x):\n",
    "    try:\n",
    "        x = float(x)\n",
    "        print('x = ', x, \" - c'est bien un float\")\n",
    "    except ValueError:\n",
    "        print('x = ', x, \" - Ceci n'est pas un float\")\n",
    "\n",
    "        \n",
    "test_float(23)\n",
    "test_float(23.3)\n",
    "test_float(\"hello world\")"
   ]
  },
  {
   "cell_type": "code",
   "execution_count": 41,
   "metadata": {},
   "outputs": [
    {
     "name": "stdout",
     "output_type": "stream",
     "text": [
      "True\n",
      "False\n",
      "True\n",
      "<class 'datetime.datetime'>\n",
      "True\n"
     ]
    }
   ],
   "source": [
    "# fonction isinstance, pour tester le type d'une variable\n",
    "import datetime\n",
    "print(isinstance(3, int))\n",
    "print(isinstance(3.1, int))\n",
    "print(isinstance(3.1, float))\n",
    "print(type(datetime.datetime.today()))\n",
    "print(isinstance(datetime.datetime.today(), datetime.datetime))"
   ]
  },
  {
   "cell_type": "code",
   "execution_count": 42,
   "metadata": {},
   "outputs": [],
   "source": [
    "# exemple de fonction, avec test du type de paramètre \n",
    "# \n",
    "\n",
    "def jjmm(timestamp):\n",
    "    \"\"\"\n",
    "    jjmm extracts day and month in numbers from a datetime.datetime object (date and time)\n",
    "    input : timestamp : a datetime.datetime object\n",
    "    output : a tuple of day and month\n",
    "    \"\"\"\n",
    "    \n",
    "    if isinstance(timestamp, datetime.datetime):\n",
    "        return timestamp.day, timestamp.month\n",
    "    else:\n",
    "        return 'parameter is not of type datetime.datetime'\n",
    "    "
   ]
  },
  {
   "cell_type": "code",
   "execution_count": 43,
   "metadata": {},
   "outputs": [
    {
     "data": {
      "text/plain": [
       "(8, 10)"
      ]
     },
     "execution_count": 43,
     "metadata": {},
     "output_type": "execute_result"
    }
   ],
   "source": [
    "ts = datetime.datetime.today()\n",
    "jjmm(ts)"
   ]
  },
  {
   "cell_type": "code",
   "execution_count": 44,
   "metadata": {},
   "outputs": [
    {
     "data": {
      "text/plain": [
       "'parameter is not of type datetime.datetime'"
      ]
     },
     "execution_count": 44,
     "metadata": {},
     "output_type": "execute_result"
    }
   ],
   "source": [
    "jjmm('a')"
   ]
  },
  {
   "cell_type": "markdown",
   "metadata": {},
   "source": [
    "## Annexes <a name=\"annexes\"></a>"
   ]
  },
  {
   "cell_type": "markdown",
   "metadata": {},
   "source": [
    "Pour lister les variables en mémoire "
   ]
  },
  {
   "cell_type": "code",
   "execution_count": 45,
   "metadata": {},
   "outputs": [
    {
     "name": "stdout",
     "output_type": "stream",
     "text": [
      "Variable         Type        Data/Info\n",
      "--------------------------------------\n",
      "a                list        n=3\n",
      "achat            str         travers\n",
      "animal           str         grenouille\n",
      "args_inf         function    <function args_inf at 0x7fae185101f0>\n",
      "calcul           function    <function calcul at 0x7fae185034c0>\n",
      "cle              str         prenom\n",
      "datetime         module      <module 'datetime' from '<...>b/python3.9/datetime.py'>\n",
      "even_list        list        n=8\n",
      "factorielle      function    <function factorielle at 0x7fae185038b0>\n",
      "g                function    <function <lambda> at 0x7fae185039d0>\n",
      "hello_function   function    <function hello_function at 0x7fae18503940>\n",
      "i                int         2\n",
      "jjmm             function    <function jjmm at 0x7fae18510790>\n",
      "list_sum         list        n=10\n",
      "liste1           list        n=10\n",
      "liste2           list        n=10\n",
      "liste3           list        n=5\n",
      "liste_test       list        n=8\n",
      "liste_valeurs    list        n=5\n",
      "ma_liste         list        n=3\n",
      "note             int         4\n",
      "num              float       6.25\n",
      "os               module      <module 'os' from '/Users<...>da3/lib/python3.9/os.py'>\n",
      "personne         dict        n=2\n",
      "sys              module      <module 'sys' (built-in)>\n",
      "test_float       function    <function test_float at 0x7fae18510550>\n",
      "ts               datetime    2021-10-08 09:30:50.978144\n",
      "val              str         i\n",
      "valeur           str         John\n",
      "write            function    <function write at 0x7fae18503430>\n"
     ]
    }
   ],
   "source": [
    "%whos"
   ]
  }
 ],
 "metadata": {
  "kernelspec": {
   "display_name": "Python 3.10.6 ('datasc01')",
   "language": "python",
   "name": "python3"
  },
  "language_info": {
   "codemirror_mode": {
    "name": "ipython",
    "version": 3
   },
   "file_extension": ".py",
   "mimetype": "text/x-python",
   "name": "python",
   "nbconvert_exporter": "python",
   "pygments_lexer": "ipython3",
   "version": "3.10.6"
  },
  "vscode": {
   "interpreter": {
    "hash": "fdad79f04f61b2b9a135f9e11fd752b7b0a89f72f21531f6c659b4c888a75e17"
   }
  }
 },
 "nbformat": 4,
 "nbformat_minor": 4
}
